{
 "cells": [
  {
   "cell_type": "code",
   "execution_count": 1,
   "id": "1a17877e",
   "metadata": {},
   "outputs": [],
   "source": [
    "import json\n",
    "import pandas as pd"
   ]
  },
  {
   "cell_type": "code",
   "execution_count": 2,
   "id": "3acc718f",
   "metadata": {},
   "outputs": [],
   "source": [
    "f = open(\"upwork_jobs_mapper.json\")\n",
    "job_mapper = json.load(f)\n",
    "f_w = open(\"upwork_worker_mapper.json\")\n",
    "worker_mapper = json.load(f_w)"
   ]
  },
  {
   "cell_type": "code",
   "execution_count": 3,
   "id": "3b361987",
   "metadata": {},
   "outputs": [],
   "source": [
    "def unique_skill_list(mapper) :\n",
    "    unique_skills = []\n",
    "    tmp = list(mapper.values())\n",
    "    for item in tmp :\n",
    "        unique_skills.extend(item[0])\n",
    "    return unique_skills"
   ]
  },
  {
   "cell_type": "code",
   "execution_count": 4,
   "id": "88f66703",
   "metadata": {},
   "outputs": [],
   "source": [
    "def preprocess(datafile,mapper) :\n",
    "    df = pd.read_csv(datafile)\n",
    "    \n",
    "    \n",
    "    \n",
    "    unique_skillsets = unique_skill_list(mapper)\n",
    "    \n",
    "    \n",
    "    remove_indices = []\n",
    "    \n",
    "    \n",
    "    print(len(df))\n",
    "    \n",
    "    \n",
    "   \n",
    "    for i in range(len(df)) :\n",
    "        skillset = df.loc[i, \"Skill\"]\n",
    "        \n",
    "        if type(skillset) == float :\n",
    "            remove_indices.append(i)\n",
    "            continue\n",
    "        \n",
    "        tmp_skillset = []\n",
    "        skills = [val.strip() for val in  skillset.split(\",\")]\n",
    "        for item in skills :\n",
    "            if item not in unique_skillsets :\n",
    "                pass\n",
    "            else :\n",
    "                tmp_skillset.append(item)\n",
    "        \n",
    "        df.loc[i,\"Skill\"] = \",\".join(tmp_skillset)\n",
    "                \n",
    "        if len(tmp_skillset)  < 1 :\n",
    "            remove_indices.append(i)\n",
    "            \n",
    "    \n",
    "    df_new = df.drop(index=remove_indices)\n",
    "    #df_new = df_new.dropna()\n",
    "    print(remove_indices)\n",
    "    return df_new\n"
   ]
  },
  {
   "cell_type": "code",
   "execution_count": 10,
   "id": "1df73b0e",
   "metadata": {},
   "outputs": [
    {
     "name": "stdout",
     "output_type": "stream",
     "text": [
      "1575\n",
      "[]\n"
     ]
    }
   ],
   "source": [
    "preprocess(\"worker_upwork_full.csv\", worker_mapper).to_csv(\"final_worker.csv\", index = False)"
   ]
  },
  {
   "cell_type": "code",
   "execution_count": 8,
   "id": "d6b6a013",
   "metadata": {},
   "outputs": [
    {
     "name": "stdout",
     "output_type": "stream",
     "text": [
      "298\n",
      "[144, 250]\n"
     ]
    }
   ],
   "source": [
    "preprocess(\"job_upwork_full_p.csv\", job_mapper).to_csv(\"final_job.csv\", index = False)"
   ]
  },
  {
   "cell_type": "code",
   "execution_count": null,
   "id": "1acac018",
   "metadata": {},
   "outputs": [],
   "source": [
    "preprocess(\".csv\", worker_mapper).to_csv(\"test_worker.csv\", index = False)"
   ]
  },
  {
   "cell_type": "code",
   "execution_count": null,
   "id": "035da7c7",
   "metadata": {},
   "outputs": [],
   "source": []
  }
 ],
 "metadata": {
  "kernelspec": {
   "display_name": "Python 3 (ipykernel)",
   "language": "python",
   "name": "python3"
  },
  "language_info": {
   "codemirror_mode": {
    "name": "ipython",
    "version": 3
   },
   "file_extension": ".py",
   "mimetype": "text/x-python",
   "name": "python",
   "nbconvert_exporter": "python",
   "pygments_lexer": "ipython3",
   "version": "3.9.12"
  }
 },
 "nbformat": 4,
 "nbformat_minor": 5
}
