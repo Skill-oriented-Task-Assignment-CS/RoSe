{
 "cells": [
  {
   "cell_type": "code",
   "execution_count": 1,
   "id": "19c025dd",
   "metadata": {},
   "outputs": [
    {
     "name": "stderr",
     "output_type": "stream",
     "text": [
      "C:\\Users\\RMSOEE\\anaconda3\\lib\\site-packages\\rdt\\transformers\\base.py:132: FutureWarning: Future versions of RDT will not support the 'model_missing_values' parameter. Please switch to using the 'missing_value_generation' parameter to select your strategy.\n",
      "  warnings.warn(\n"
     ]
    }
   ],
   "source": [
    "from SynthesisLib import *"
   ]
  },
  {
   "cell_type": "code",
   "execution_count": 2,
   "id": "bce5b72e",
   "metadata": {},
   "outputs": [
    {
     "data": {
      "text/html": [
       "<div>\n",
       "<style scoped>\n",
       "    .dataframe tbody tr th:only-of-type {\n",
       "        vertical-align: middle;\n",
       "    }\n",
       "\n",
       "    .dataframe tbody tr th {\n",
       "        vertical-align: top;\n",
       "    }\n",
       "\n",
       "    .dataframe thead th {\n",
       "        text-align: right;\n",
       "    }\n",
       "</style>\n",
       "<table border=\"1\" class=\"dataframe\">\n",
       "  <thead>\n",
       "    <tr style=\"text-align: right;\">\n",
       "      <th></th>\n",
       "      <th>Skills</th>\n",
       "      <th>experience</th>\n",
       "      <th>fixed_price</th>\n",
       "      <th>client_location</th>\n",
       "      <th>project_type</th>\n",
       "    </tr>\n",
       "  </thead>\n",
       "  <tbody>\n",
       "    <tr>\n",
       "      <th>145</th>\n",
       "      <td>Administrative Support,Automotive,Personal Adm...</td>\n",
       "      <td>Intermediate</td>\n",
       "      <td>8000.0</td>\n",
       "      <td>United States</td>\n",
       "      <td>Ongoing project</td>\n",
       "    </tr>\n",
       "    <tr>\n",
       "      <th>287</th>\n",
       "      <td>Information Security,Web Programming,Blockchai...</td>\n",
       "      <td>Intermediate</td>\n",
       "      <td>1112.0</td>\n",
       "      <td>Cyprus</td>\n",
       "      <td>Ongoing project</td>\n",
       "    </tr>\n",
       "    <tr>\n",
       "      <th>357</th>\n",
       "      <td>API</td>\n",
       "      <td>Expert</td>\n",
       "      <td>1532.0</td>\n",
       "      <td>United States</td>\n",
       "      <td>One-time project</td>\n",
       "    </tr>\n",
       "    <tr>\n",
       "      <th>27</th>\n",
       "      <td>WordPress</td>\n",
       "      <td>Intermediate</td>\n",
       "      <td>567.0</td>\n",
       "      <td>United States</td>\n",
       "      <td>Ongoing project</td>\n",
       "    </tr>\n",
       "    <tr>\n",
       "      <th>267</th>\n",
       "      <td>Content Writing,Adobe Illustrator,Infographics...</td>\n",
       "      <td>Entry level</td>\n",
       "      <td>7986.0</td>\n",
       "      <td>Puerto Rico</td>\n",
       "      <td>Ongoing project</td>\n",
       "    </tr>\n",
       "    <tr>\n",
       "      <th>...</th>\n",
       "      <td>...</td>\n",
       "      <td>...</td>\n",
       "      <td>...</td>\n",
       "      <td>...</td>\n",
       "      <td>...</td>\n",
       "    </tr>\n",
       "    <tr>\n",
       "      <th>386</th>\n",
       "      <td>Content Writing,Lead Generation,Google Maps AP...</td>\n",
       "      <td>Intermediate</td>\n",
       "      <td>1366.0</td>\n",
       "      <td>Canada</td>\n",
       "      <td>One-time project</td>\n",
       "    </tr>\n",
       "    <tr>\n",
       "      <th>120</th>\n",
       "      <td>jQuery,Google Maps API,Illustration,Google Ads...</td>\n",
       "      <td>Intermediate</td>\n",
       "      <td>8000.0</td>\n",
       "      <td>Montenegro</td>\n",
       "      <td>Ongoing project</td>\n",
       "    </tr>\n",
       "    <tr>\n",
       "      <th>382</th>\n",
       "      <td>Automation,Marketing,List Building,Sales,Finan...</td>\n",
       "      <td>Expert</td>\n",
       "      <td>8000.0</td>\n",
       "      <td>United States</td>\n",
       "      <td>Ongoing project</td>\n",
       "    </tr>\n",
       "    <tr>\n",
       "      <th>339</th>\n",
       "      <td>Digital Publication,HubSpot,Data Entry</td>\n",
       "      <td>Expert</td>\n",
       "      <td>1067.0</td>\n",
       "      <td>Morocco</td>\n",
       "      <td>One-time project</td>\n",
       "    </tr>\n",
       "    <tr>\n",
       "      <th>279</th>\n",
       "      <td>rich text editor,Google Maps API,Web Programmi...</td>\n",
       "      <td>Intermediate</td>\n",
       "      <td>942.0</td>\n",
       "      <td>Denmark</td>\n",
       "      <td>Complex project</td>\n",
       "    </tr>\n",
       "  </tbody>\n",
       "</table>\n",
       "<p>300 rows × 5 columns</p>\n",
       "</div>"
      ],
      "text/plain": [
       "                                                Skills    experience  \\\n",
       "145  Administrative Support,Automotive,Personal Adm...  Intermediate   \n",
       "287  Information Security,Web Programming,Blockchai...  Intermediate   \n",
       "357                                                API        Expert   \n",
       "27                                           WordPress  Intermediate   \n",
       "267  Content Writing,Adobe Illustrator,Infographics...   Entry level   \n",
       "..                                                 ...           ...   \n",
       "386  Content Writing,Lead Generation,Google Maps AP...  Intermediate   \n",
       "120  jQuery,Google Maps API,Illustration,Google Ads...  Intermediate   \n",
       "382  Automation,Marketing,List Building,Sales,Finan...        Expert   \n",
       "339             Digital Publication,HubSpot,Data Entry        Expert   \n",
       "279  rich text editor,Google Maps API,Web Programmi...  Intermediate   \n",
       "\n",
       "     fixed_price client_location      project_type  \n",
       "145       8000.0   United States   Ongoing project  \n",
       "287       1112.0          Cyprus   Ongoing project  \n",
       "357       1532.0   United States  One-time project  \n",
       "27         567.0   United States   Ongoing project  \n",
       "267       7986.0     Puerto Rico   Ongoing project  \n",
       "..           ...             ...               ...  \n",
       "386       1366.0          Canada  One-time project  \n",
       "120       8000.0      Montenegro   Ongoing project  \n",
       "382       8000.0   United States   Ongoing project  \n",
       "339       1067.0         Morocco  One-time project  \n",
       "279        942.0         Denmark   Complex project  \n",
       "\n",
       "[300 rows x 5 columns]"
      ]
     },
     "execution_count": 2,
     "metadata": {},
     "output_type": "execute_result"
    }
   ],
   "source": [
    "generate(0,300)\n"
   ]
  },
  {
   "cell_type": "code",
   "execution_count": 9,
   "id": "ebd5af51",
   "metadata": {},
   "outputs": [],
   "source": [
    "generate(0,300).to_csv(\"final_job_synthesis.csv\" , index=False)\n"
   ]
  },
  {
   "cell_type": "code",
   "execution_count": 8,
   "id": "e08f7e0d",
   "metadata": {},
   "outputs": [],
   "source": [
    "generate(1,1500).to_csv(\"final_worker_synthesis.csv\" , index=False)\n"
   ]
  },
  {
   "cell_type": "code",
   "execution_count": null,
   "id": "4fb9212f",
   "metadata": {},
   "outputs": [],
   "source": []
  }
 ],
 "metadata": {
  "kernelspec": {
   "display_name": "Python 3 (ipykernel)",
   "language": "python",
   "name": "python3"
  },
  "language_info": {
   "codemirror_mode": {
    "name": "ipython",
    "version": 3
   },
   "file_extension": ".py",
   "mimetype": "text/x-python",
   "name": "python",
   "nbconvert_exporter": "python",
   "pygments_lexer": "ipython3",
   "version": "3.9.12"
  }
 },
 "nbformat": 4,
 "nbformat_minor": 5
}
